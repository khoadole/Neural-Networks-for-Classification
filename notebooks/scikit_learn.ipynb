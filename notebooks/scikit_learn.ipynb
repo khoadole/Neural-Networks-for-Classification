{
 "cells": [
  {
   "cell_type": "code",
   "execution_count": 2,
   "metadata": {},
   "outputs": [
    {
     "name": "stdout",
     "output_type": "stream",
     "text": [
      "Shape of train: (40000, 3072) (40000, 10)\n",
      "Shape of validation: (10000, 3072) (10000, 10)\n",
      "Shape of test: (10000, 3072) (10000, 10)\n"
     ]
    }
   ],
   "source": [
    "import pickle\n",
    "\n",
    "with open('../data/preprocessed_data.pkl', 'rb') as f:\n",
    "    X_train, y_train, X_val, y_val, X_test, y_test = pickle.load(f)\n",
    "\n",
    "print(\"Shape of train:\", X_train.shape, y_train.shape)\n",
    "print(\"Shape of validation:\", X_val.shape, y_val.shape)\n",
    "print(\"Shape of test:\", X_test.shape, y_test.shape)"
   ]
  }
 ],
 "metadata": {
  "kernelspec": {
   "display_name": "neuralNetwork",
   "language": "python",
   "name": "python3"
  },
  "language_info": {
   "codemirror_mode": {
    "name": "ipython",
    "version": 3
   },
   "file_extension": ".py",
   "mimetype": "text/x-python",
   "name": "python",
   "nbconvert_exporter": "python",
   "pygments_lexer": "ipython3",
   "version": "3.10.16"
  }
 },
 "nbformat": 4,
 "nbformat_minor": 2
}
